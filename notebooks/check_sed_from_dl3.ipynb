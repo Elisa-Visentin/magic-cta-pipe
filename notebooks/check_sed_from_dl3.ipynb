{
 "cells": [
  {
   "cell_type": "code",
   "execution_count": 1,
   "metadata": {},
   "outputs": [],
   "source": [
    "import itertools\n",
    "import numpy as np\n",
    "import matplotlib.pyplot as plt\n",
    "from pathlib import Path\n",
    "from astropy import units as u\n",
    "from astropy.io import fits\n",
    "from astropy.table import Table\n",
    "from astropy.coordinates import SkyCoord, Angle\n",
    "from regions import CircleSkyRegion\n",
    "from gammapy.data import DataStore\n",
    "from gammapy.maps import MapAxis, RegionGeom, WcsGeom\n",
    "from gammapy.makers import (\n",
    "    SafeMaskMaker,\n",
    "    SpectrumDatasetMaker,\n",
    "    ReflectedRegionsBackgroundMaker,\n",
    ")\n",
    "from gammapy.datasets import (\n",
    "    Datasets,\n",
    "    SpectrumDataset,\n",
    "    FluxPointsDataset,\n",
    ")\n",
    "from gammapy.modeling import Fit\n",
    "from gammapy.modeling.models import (\n",
    "    SkyModel,\n",
    "    LogParabolaSpectralModel,\n",
    "    create_crab_spectral_model,\n",
    ")\n",
    "from gammapy.estimators import FluxPointsEstimator\n",
    "from gammapy.visualization import plot_spectrum_datasets_off_regions"
   ]
  },
  {
   "cell_type": "code",
   "execution_count": 2,
   "metadata": {},
   "outputs": [],
   "source": [
    "plt.rcParams.update({\n",
    "    'figure.figsize': (12, 9),\n",
    "    'font.size': 15,\n",
    "    'grid.linestyle': '--',\n",
    "})"
   ]
  },
  {
   "cell_type": "markdown",
   "metadata": {},
   "source": [
    "# Load DL3 data file"
   ]
  },
  {
   "cell_type": "code",
   "execution_count": 3,
   "metadata": {
    "scrolled": false
   },
   "outputs": [
    {
     "name": "stderr",
     "output_type": "stream",
     "text": [
      "No HDU found matching: OBS_ID = 5093711, HDU_TYPE = psf, HDU_CLASS = None\n",
      "No HDU found matching: OBS_ID = 5093711, HDU_TYPE = bkg, HDU_CLASS = None\n",
      "No HDU found matching: OBS_ID = 5093711, HDU_TYPE = rad_max, HDU_CLASS = None\n",
      "No HDU found matching: OBS_ID = 5093712, HDU_TYPE = psf, HDU_CLASS = None\n",
      "No HDU found matching: OBS_ID = 5093712, HDU_TYPE = bkg, HDU_CLASS = None\n",
      "No HDU found matching: OBS_ID = 5093712, HDU_TYPE = rad_max, HDU_CLASS = None\n",
      "No HDU found matching: OBS_ID = 5093713, HDU_TYPE = psf, HDU_CLASS = None\n",
      "No HDU found matching: OBS_ID = 5093713, HDU_TYPE = bkg, HDU_CLASS = None\n",
      "No HDU found matching: OBS_ID = 5093713, HDU_TYPE = rad_max, HDU_CLASS = None\n",
      "No HDU found matching: OBS_ID = 5093714, HDU_TYPE = psf, HDU_CLASS = None\n",
      "No HDU found matching: OBS_ID = 5093714, HDU_TYPE = bkg, HDU_CLASS = None\n",
      "No HDU found matching: OBS_ID = 5093714, HDU_TYPE = rad_max, HDU_CLASS = None\n"
     ]
    },
    {
     "name": "stdout",
     "output_type": "stream",
     "text": [
      "Observations\n",
      "Number of observations: 4\n",
      "Observation\n",
      "\n",
      "\tobs id            : 5093711 \n",
      " \ttstart            : 59198.89\n",
      "\ttstop             : 59198.90\n",
      "\tduration          : 864.68 s\n",
      "\tpointing (icrs)   : 84.0 deg, 22.2 deg\n",
      "\n",
      "\tdeadtime fraction : 0.0%\n",
      "Observation\n",
      "\n",
      "\tobs id            : 5093712 \n",
      " \ttstart            : 59198.90\n",
      "\ttstop             : 59198.91\n",
      "\tduration          : 846.19 s\n",
      "\tpointing (icrs)   : 83.3 deg, 21.8 deg\n",
      "\n",
      "\tdeadtime fraction : 0.0%\n",
      "Observation\n",
      "\n",
      "\tobs id            : 5093713 \n",
      " \ttstart            : 59198.92\n",
      "\ttstop             : 59198.93\n",
      "\tduration          : 816.03 s\n",
      "\tpointing (icrs)   : 84.0 deg, 22.2 deg\n",
      "\n",
      "\tdeadtime fraction : 0.0%\n",
      "Observation\n",
      "\n",
      "\tobs id            : 5093714 \n",
      " \ttstart            : 59198.93\n",
      "\ttstop             : 59198.94\n",
      "\tduration          : 776.30 s\n",
      "\tpointing (icrs)   : 83.3 deg, 21.8 deg\n",
      "\n",
      "\tdeadtime fraction : 0.0%\n",
      "\n"
     ]
    }
   ],
   "source": [
    "# === Settings ===\n",
    "dl3_dir = '/home/yoshiki.ohtani/software/magic-cta-pipe/magicctapipe/scripts/lst1_magic/dl3_gam_global0.6/'\n",
    "\n",
    "# === Main ===\n",
    "datastore = DataStore.from_dir(dl3_dir)\n",
    "\n",
    "obs_ids = datastore.obs_table['OBS_ID'].value\n",
    "observations = datastore.get_observations(obs_ids, required_irf=['aeff', 'edisp'])\n",
    "\n",
    "print(observations)"
   ]
  },
  {
   "cell_type": "markdown",
   "metadata": {},
   "source": [
    "# Define a target region"
   ]
  },
  {
   "cell_type": "code",
   "execution_count": 4,
   "metadata": {},
   "outputs": [
    {
     "name": "stdout",
     "output_type": "stream",
     "text": [
      "Get the target position from the source name: Crab\n",
      "\n",
      "Region: CircleSkyRegion\n",
      "center: <SkyCoord (ICRS): (ra, dec) in deg\n",
      "    (83.63308333, 22.0145)>\n",
      "radius: 0.2 deg\n"
     ]
    }
   ],
   "source": [
    "# === Settings ===\n",
    "target_source_name = 'Crab'\n",
    "\n",
    "# target_source_lon = u.Quantity(83.63, u.deg)\n",
    "# target_source_lat = u.Quantity(22.01, u.deg)\n",
    "# target_source_frame = 'icrs'\n",
    "\n",
    "# === Main ===\n",
    "if target_source_name is not None:\n",
    "    print(f'Get the target position from the source name: {target_source_name}\\n')\n",
    "    target_position = SkyCoord.from_name(target_source_name)\n",
    "    target_position = target_position.transform_to('icrs')\n",
    "else:\n",
    "    print('Set the target position with the input values...\\n')\n",
    "    target_position = SkyCoord(target_source_lon, target_source_lat, frame=target_source_frame)\n",
    "    \n",
    "# Define an on-region radius.\n",
    "# Here it assumes that the IRFs are created with a global theta cut:\n",
    "base_dir = datastore.hdu_table[0].meta['BASE_DIR']\n",
    "file_name = datastore.hdu_table[0]['FILE_NAME']\n",
    "\n",
    "file_path = Path(base_dir) / Path(file_name)\n",
    "on_region_radius = u.Quantity(Table.read(file_path, hdu='EFFECTIVE AREA').meta['RAD_MAX'], u.deg)\n",
    "\n",
    "on_region = CircleSkyRegion(center=target_position, radius=on_region_radius)\n",
    "\n",
    "print(on_region)"
   ]
  },
  {
   "cell_type": "markdown",
   "metadata": {},
   "source": [
    "# Create an exclusion mask"
   ]
  },
  {
   "cell_type": "code",
   "execution_count": 5,
   "metadata": {},
   "outputs": [
    {
     "name": "stdout",
     "output_type": "stream",
     "text": [
      "Get the exclusion position from the source name: RGB J0521+212\n",
      "\n",
      "Region: CircleSkyRegion\n",
      "center: <SkyCoord (ICRS): (ra, dec) in deg\n",
      "    (80.44152391, 21.21429244)>\n",
      "radius: 0.5 deg\n"
     ]
    },
    {
     "data": {
      "image/png": "[encoded data removed]",
      "text/plain": [
       "<Figure size 864x648 with 1 Axes>"
      ]
     },
     "metadata": {
      "needs_background": "light"
     },
     "output_type": "display_data"
    }
   ],
   "source": [
    "# === Settings ===\n",
    "exclusion_position_name = 'RGB J0521+212'\n",
    "\n",
    "# exclusion_position_lon = u.Quantity(183.604, u.deg)\n",
    "# exclusion_position_lat = u.Quantity(-8.708, u.deg)\n",
    "# exclusion_position_frame = 'galactic'\n",
    "\n",
    "exclusion_region_radius = u.Quantity(0.5, u.deg)\n",
    "\n",
    "# === Main ===\n",
    "if exclusion_position_name is not None:\n",
    "    print(f'Get the exclusion position from the source name: {exclusion_position_name}\\n')\n",
    "    exclusion_position = SkyCoord.from_name(exclusion_position_name)\n",
    "    exclusion_position = exclusion_position.transform_to('icrs')\n",
    "else:\n",
    "    print('Set the exclusion position with the input values...\\n')\n",
    "    exclusion_position = SkyCoord(\n",
    "        exclusion_position_lon, exclusion_position_lat, frame=exclusion_position_frame,\n",
    "    )\n",
    "    \n",
    "exclusion_region = CircleSkyRegion(center=exclusion_position, radius=exclusion_region_radius)\n",
    "\n",
    "print(exclusion_region)\n",
    "\n",
    "geom = WcsGeom.create(\n",
    "    npix=(800, 800), binsz=0.01,\n",
    "    skydir=target_position, proj='TAN', frame='icrs',\n",
    ")\n",
    "\n",
    "exclusion_mask = ~geom.region_mask([exclusion_region])\n",
    "\n",
    "# Plot the region:\n",
    "plt.figure()\n",
    "\n",
    "ax = exclusion_mask.plot()\n",
    "on_region.to_pixel(ax.wcs).plot(ax=ax, edgecolor='black')\n",
    "\n",
    "ax.set_title('ON and exclusion regions')\n",
    "ax.grid()"
   ]
  },
  {
   "cell_type": "markdown",
   "metadata": {},
   "source": [
    "# Run data reduction chain"
   ]
  },
  {
   "cell_type": "code",
   "execution_count": 6,
   "metadata": {
    "scrolled": false
   },
   "outputs": [
    {
     "name": "stdout",
     "output_type": "stream",
     "text": [
      "SpectrumDatasetMaker\n",
      "--------------------\n",
      "\n",
      "  selection               : {'edisp', 'exposure', 'counts'}\n",
      "  containment_correction  : False\n",
      "  background_oversampling : None\n",
      "  use_region_center       : True\n",
      "\n"
     ]
    }
   ],
   "source": [
    "# === Settings ===\n",
    "energy_reco_min = 0.01\n",
    "energy_reco_max = 10\n",
    "n_bins_reco = 5\n",
    "\n",
    "energy_true_min = 0.01\n",
    "energy_true_max = 100\n",
    "n_bins_true = 5\n",
    "\n",
    "# === Main ===\n",
    "energy_axis = MapAxis.from_energy_bounds(\n",
    "    energy_reco_min, energy_reco_max, nbin=n_bins_reco, per_decade=True, unit='TeV', name='energy',\n",
    ")\n",
    "\n",
    "energy_axis_true = MapAxis.from_energy_bounds(\n",
    "    energy_true_min, energy_true_max, nbin=n_bins_true, per_decade=True, unit='TeV', name='energy_true',\n",
    ")\n",
    "\n",
    "geom = RegionGeom.create(region=on_region, axes=[energy_axis])\n",
    "dataset_empty = SpectrumDataset.create(geom=geom, energy_axis_true=energy_axis_true)\n",
    "\n",
    "# Define the SpectrumDatasetMaker, assuming tha the input is point-like IRFs.\n",
    "# Even if the \"use_region_center\" is set to True, there is the following warning but is safely ignored:\n",
    "# \"MapMaker: use_region_center=False should not be used with point-like IRF. Results are likely inaccurate\"\n",
    "# This issue has been already fixed in the master branch and it will not appear in the coming version of gammapy:\n",
    "\n",
    "dataset_maker = SpectrumDatasetMaker(\n",
    "    containment_correction=False, selection=['counts', 'exposure', 'edisp'], use_region_center=True,\n",
    ")\n",
    "\n",
    "bkg_maker = ReflectedRegionsBackgroundMaker(\n",
    "    exclusion_mask=exclusion_mask, min_distance=u.Quantity(100, u.deg), max_region_number=1,\n",
    ")\n",
    "\n",
    "safe_mask_maker = SafeMaskMaker(methods=['aeff-max'], aeff_percent=10)\n",
    "\n",
    "print(dataset_maker)"
   ]
  },
  {
   "cell_type": "code",
   "execution_count": null,
   "metadata": {},
   "outputs": [
    {
     "name": "stderr",
     "output_type": "stream",
     "text": [
      "MapMaker: use_region_center=False should not be used with point-like IRF. Results are likely inaccurate.\n",
      "MapMaker: use_region_center=False should not be used with point-like IRF. Results are likely inaccurate.\n",
      "MapMaker: use_region_center=False should not be used with point-like IRF. Results are likely inaccurate.\n"
     ]
    }
   ],
   "source": [
    "datasets = Datasets()\n",
    "\n",
    "for obs_id, observation in zip(obs_ids, observations):\n",
    "    \n",
    "    dataset = dataset_maker.run(dataset_empty.copy(name=str(obs_id)), observation)\n",
    "    dataset_on_off = bkg_maker.run(dataset, observation)\n",
    "    dataset_on_off = safe_mask_maker.run(dataset_on_off, observation)\n",
    "    \n",
    "    datasets.append(dataset_on_off)\n",
    "\n",
    "print(datasets)"
   ]
  },
  {
   "cell_type": "code",
   "execution_count": null,
   "metadata": {},
   "outputs": [],
   "source": [
    "plt.figure()\n",
    "\n",
    "ax = exclusion_mask.plot()\n",
    "on_region.to_pixel(ax.wcs).plot(ax=ax, edgecolor='black')\n",
    "\n",
    "plot_spectrum_datasets_off_regions(ax=ax, datasets=datasets)\n",
    "\n",
    "ax.set_title('ON/OFF and exclusion regions')\n",
    "ax.grid()"
   ]
  },
  {
   "cell_type": "markdown",
   "metadata": {},
   "source": [
    "# Source statistics"
   ]
  },
  {
   "cell_type": "code",
   "execution_count": null,
   "metadata": {},
   "outputs": [],
   "source": [
    "info_table = datasets.info_table(cumulative=True)"
   ]
  },
  {
   "cell_type": "code",
   "execution_count": null,
   "metadata": {},
   "outputs": [],
   "source": [
    "info_table"
   ]
  },
  {
   "cell_type": "code",
   "execution_count": null,
   "metadata": {},
   "outputs": [],
   "source": [
    "plt.figure(figsize=(20, 7))\n",
    "grid = (1, 2)\n",
    "\n",
    "# Livetime vs N events:\n",
    "plt.subplot2grid(grid, (0, 0))\n",
    "plt.title('Evolution of the number of events')\n",
    "plt.xlabel('Livetime [h]')\n",
    "plt.ylabel('Number of events')\n",
    "\n",
    "plt.plot(\n",
    "    info_table['livetime'].to('h'), info_table['excess'],\n",
    "    marker='o', linestyle='--', label='Excess'\n",
    ")\n",
    "\n",
    "plt.plot(\n",
    "    info_table['livetime'].to('h'), info_table['background'],\n",
    "    marker='o', linestyle='--', label='Background',\n",
    ")\n",
    "\n",
    "plt.grid()\n",
    "plt.legend()\n",
    "\n",
    "# Livetime vs Sqrt(TS):\n",
    "plt.subplot2grid(grid, (0, 1))\n",
    "plt.title('Evolution of the significance')\n",
    "plt.xlabel('Livetime [h]')\n",
    "plt.ylabel('Sqrt(TS)')\n",
    "\n",
    "plt.plot(info_table['livetime'].to('h'), info_table['sqrt_ts'], marker='o', linestyle='--')\n",
    "\n",
    "plt.grid()"
   ]
  },
  {
   "cell_type": "markdown",
   "metadata": {},
   "source": [
    "# Fit spectrum"
   ]
  },
  {
   "cell_type": "code",
   "execution_count": null,
   "metadata": {},
   "outputs": [],
   "source": [
    "# === Settings ===\n",
    "model_function = LogParabolaSpectralModel\n",
    "\n",
    "parameters = {\n",
    "    'amplitude': u.Quantity(5e-12, u.Unit('cm-2 s-1 TeV-1')),\n",
    "    'alpha': u.Quantity(2),\n",
    "    'beta': u.Quantity(0.1),\n",
    "    'reference': u.Quantity(1, u.TeV),\n",
    "}\n",
    "\n",
    "model_name = 'crab'\n",
    "\n",
    "# === Main ===\n",
    "spectral_model = model_function(**parameters)\n",
    "model = SkyModel(spectral_model=spectral_model, name=model_name)\n",
    "\n",
    "datasets.models = [model]\n",
    "\n",
    "fit_joint = Fit()\n",
    "result_joint = fit_joint.run(datasets=datasets)\n",
    "\n",
    "model_best_joint = model.copy()\n",
    "\n",
    "print(result_joint)"
   ]
  },
  {
   "cell_type": "code",
   "execution_count": null,
   "metadata": {},
   "outputs": [],
   "source": [
    "datasets.models.to_parameters_table()"
   ]
  },
  {
   "cell_type": "code",
   "execution_count": null,
   "metadata": {
    "scrolled": false
   },
   "outputs": [],
   "source": [
    "for i_data, dataset in enumerate(datasets):\n",
    "    \n",
    "    plt.figure()\n",
    "\n",
    "    ax_spectrum, ax_residuals = datasets[i_data].plot_fit()\n",
    "\n",
    "    ax_spectrum.set_title(f'Run{dataset.name}')\n",
    "    ax_spectrum.set_ylabel('Number of events')\n",
    "    ax_spectrum.set_ylim(0.2, 200)\n",
    "    ax_spectrum.grid()\n",
    "\n",
    "    plt.setp(ax_spectrum.get_xticklabels(), visible=False)\n",
    "\n",
    "    ax_residuals.grid()\n",
    "\n",
    "    plt.subplots_adjust(hspace=0)"
   ]
  },
  {
   "cell_type": "markdown",
   "metadata": {},
   "source": [
    "# Compute flux points"
   ]
  },
  {
   "cell_type": "code",
   "execution_count": null,
   "metadata": {},
   "outputs": [],
   "source": [
    "# === Settings ===\n",
    "energy_edges = u.Quantity(np.logspace(-1, 1, 11), u.TeV)\n",
    "\n",
    "# === Main ===\n",
    "fpe = FluxPointsEstimator(\n",
    "    energy_edges=energy_edges, source='crab', selection_optional='all',\n",
    ")\n",
    "\n",
    "flux_points = fpe.run(datasets=datasets)\n",
    "flux_points_dataset = FluxPointsDataset(data=flux_points, models=model_best_joint)"
   ]
  },
  {
   "cell_type": "code",
   "execution_count": null,
   "metadata": {},
   "outputs": [],
   "source": [
    "flux_points.to_table(sed_type='e2dnde', formatted=True)"
   ]
  },
  {
   "cell_type": "code",
   "execution_count": null,
   "metadata": {},
   "outputs": [],
   "source": [
    "plt.figure()\n",
    "\n",
    "plot_kwargs = {\n",
    "    'sed_type': 'e2dnde',\n",
    "    'yunits': u.Unit('erg cm-2 s-1'),\n",
    "}\n",
    "\n",
    "# Plot the computed flux points:\n",
    "ax = flux_points_dataset.plot_spectrum(kwargs_model=plot_kwargs)\n",
    "\n",
    "# Plot the MAGIC reference curve:\n",
    "create_crab_spectral_model('magic_lp').plot(\n",
    "    ax=ax, energy_bounds=u.Quantity([0.1, 10], u.TeV),\n",
    "    label='MAGIC LP (JHEAp 2015)', **plot_kwargs,\n",
    ")\n",
    "\n",
    "ax.set_title('Spectral Energy Distribution')\n",
    "ax.set_ylabel('$E^2dN/dE$  [erg cm$^{-2}$ s$^{-1}$]')\n",
    "ax.grid(which='both')\n",
    "ax.legend()"
   ]
  },
  {
   "cell_type": "code",
   "execution_count": null,
   "metadata": {},
   "outputs": [],
   "source": []
  }
 ],
 "metadata": {
  "kernelspec": {
   "display_name": "lstmagic",
   "language": "python",
   "name": "lstmagic"
  },
  "language_info": {
   "codemirror_mode": {
    "name": "ipython",
    "version": 3
   },
   "file_extension": ".py",
   "mimetype": "text/x-python",
   "name": "python",
   "nbconvert_exporter": "python",
   "pygments_lexer": "ipython3",
   "version": "3.7.12"
  }
 },
 "nbformat": 4,
 "nbformat_minor": 2
}
